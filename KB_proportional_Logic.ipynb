{
  "nbformat": 4,
  "nbformat_minor": 0,
  "metadata": {
    "colab": {
      "provenance": [],
      "authorship_tag": "ABX9TyNN9HadFU0VZhHgIrYbIshR",
      "include_colab_link": true
    },
    "kernelspec": {
      "name": "python3",
      "display_name": "Python 3"
    },
    "language_info": {
      "name": "python"
    }
  },
  "cells": [
    {
      "cell_type": "markdown",
      "metadata": {
        "id": "view-in-github",
        "colab_type": "text"
      },
      "source": [
        "<a href=\"https://colab.research.google.com/github/AnirudhCSE-050/AI-LAB-Sem5/blob/main/KB_proportional_Logic.ipynb\" target=\"_parent\"><img src=\"https://colab.research.google.com/assets/colab-badge.svg\" alt=\"Open In Colab\"/></a>"
      ]
    },
    {
      "cell_type": "code",
      "execution_count": 5,
      "metadata": {
        "id": "KtSs-m80kx8V"
      },
      "outputs": [],
      "source": []
    },
    {
      "cell_type": "code",
      "source": [
        "from itertools import product\n",
        "\n",
        "def parse_expression(expression, symbols):\n",
        "    # Convert the expression into a lambda function to evaluate for truth values\n",
        "    for symbol in symbols:\n",
        "        expression = expression.replace(symbol, f\"values['{symbol}']\")\n",
        "    return eval(\"lambda values: \" + expression)\n",
        "\n",
        "def generate_truth_table(symbols):\n",
        "    # Generate all possible combinations of truth values\n",
        "    return [dict(zip(symbols, values)) for values in product([True, False], repeat=len(symbols))]\n",
        "\n",
        "def check_entailment(kb_expr, alpha_expr, symbols):\n",
        "    kb_lambda = parse_expression(kb_expr, symbols)\n",
        "    alpha_lambda = parse_expression(alpha_expr, symbols)\n",
        "\n",
        "    truth_table = generate_truth_table(symbols)\n",
        "    entails = True\n",
        "\n",
        "    # Evaluate each row in the truth table\n",
        "    print(\"Truth Table:\")\n",
        "    print(f\"{' '.join(symbols)} | KB | alpha\")\n",
        "    print(\"-\" * (len(symbols) * 5 + 15))\n",
        "\n",
        "    for row in truth_table:\n",
        "        kb_value = kb_lambda(row)\n",
        "        alpha_value = alpha_lambda(row)\n",
        "\n",
        "        print(f\"{' '.join(str(row[symbol]) for symbol in symbols)} | {kb_value} | {alpha_value}\")\n",
        "\n",
        "        # Check if there's a case where KB is True and alpha is False\n",
        "        if kb_value and not alpha_value:\n",
        "            entails = False\n",
        "\n",
        "    return entails\n",
        "\n",
        "# User input for KB and alpha\n",
        "kb_expr = input(\"Enter the KB expression (use 'and', 'or', 'not', 'implies' for ->): \")\n",
        "alpha_expr = input(\"Enter the alpha (query) expression: \")\n",
        "\n",
        "# Extract symbols (propositional variables)\n",
        "symbols = sorted(set(kb_expr.replace(\"and\", \"\").replace(\"or\", \"\").replace(\"not\", \"\").replace(\"(\", \"\").replace(\")\", \"\").replace(\"implies\", \"\").split()) |\n",
        "                 set(alpha_expr.replace(\"and\", \"\").replace(\"or\", \"\").replace(\"not\", \"\").replace(\"(\", \"\").replace(\")\", \"\").replace(\"implies\", \"\").split()))\n",
        "\n",
        "# Substitute 'implies' with 'not p or q' (implication in propositional logic)\n",
        "kb_expr = kb_expr.replace(\"implies\", \" or not \")\n",
        "alpha_expr = alpha_expr.replace(\"implies\", \" or not \")\n",
        "\n",
        "# Check entailment\n",
        "entails = check_entailment(kb_expr, alpha_expr, symbols)\n",
        "print(\"\\nKB entails alpha:\" if entails else \"\\nKB does not entail alpha.\")\n",
        "print(\"Araga Laxman Anirudhadithya - 1BM22CS050 \")\n"
      ],
      "metadata": {
        "colab": {
          "base_uri": "https://localhost:8080/"
        },
        "id": "fPNcOYrVrevr",
        "outputId": "d985c617-1ffa-4005-e001-9f4e6a8f42d8"
      },
      "execution_count": 5,
      "outputs": [
        {
          "output_type": "stream",
          "name": "stdout",
          "text": [
            "Enter the KB expression (use 'and', 'or', 'not', 'implies' for ->): Q implies  P\n",
            "Enter the alpha (query) expression: Q and P\n",
            "Truth Table:\n",
            "P Q | KB | alpha\n",
            "-------------------------\n",
            "True True | True | True\n",
            "True False | False | False\n",
            "False True | True | False\n",
            "False False | True | False\n",
            "\n",
            "KB does not entail alpha.\n",
            "Araga Laxman Anirudhadithya - 1BM22CS050 \n"
          ]
        }
      ]
    },
    {
      "cell_type": "code",
      "source": [],
      "metadata": {
        "id": "eojw8W-jrwDb"
      },
      "execution_count": null,
      "outputs": []
    }
  ]
}